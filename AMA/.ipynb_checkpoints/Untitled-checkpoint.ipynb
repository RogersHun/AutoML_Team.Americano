{
 "cells": [
  {
   "cell_type": "code",
   "execution_count": 17,
   "id": "5f491804",
   "metadata": {},
   "outputs": [],
   "source": [
    "import pandas as pd\n",
    "import numpy as np\n",
    "from scipy.io.arff import loadarff"
   ]
  },
  {
   "cell_type": "code",
   "execution_count": 18,
   "id": "d97a6462",
   "metadata": {},
   "outputs": [],
   "source": [
    "def read_ariff(path):\n",
    "    raw_data, meta = loadarff(path)\n",
    "    cols = [x for x in meta]\n",
    "    data2d = np.zeros([raw_data.shape[0],len(cols)])\n",
    "    \n",
    "    for i,col in zip(range(len(cols)),cols):\n",
    "        data2d[:,i] = raw_data[col]\n",
    "    return data2d\n",
    "\n",
    "train = read_ariff(\"./FordA_TRAIN.arff\")\n",
    "test = read_ariff(\"./FordA_TEST.arff\")"
   ]
  },
  {
   "cell_type": "code",
   "execution_count": 25,
   "id": "bef47140",
   "metadata": {},
   "outputs": [],
   "source": [
    "data = np.concatenate((train,test),axis=0)"
   ]
  },
  {
   "cell_type": "code",
   "execution_count": 30,
   "id": "3110ddc6",
   "metadata": {},
   "outputs": [],
   "source": [
    "data = pd.DataFrame(data)\n",
    "data.columns = result"
   ]
  },
  {
   "cell_type": "code",
   "execution_count": 32,
   "id": "10b07c14",
   "metadata": {},
   "outputs": [],
   "source": [
    "data.to_csv(\"./data.csv\",encoding=\"utf-8\")"
   ]
  },
  {
   "cell_type": "code",
   "execution_count": null,
   "id": "51d4b2e2",
   "metadata": {},
   "outputs": [],
   "source": []
  }
 ],
 "metadata": {
  "kernelspec": {
   "display_name": "Python 3 (ipykernel)",
   "language": "python",
   "name": "python3"
  },
  "language_info": {
   "codemirror_mode": {
    "name": "ipython",
    "version": 3
   },
   "file_extension": ".py",
   "mimetype": "text/x-python",
   "name": "python",
   "nbconvert_exporter": "python",
   "pygments_lexer": "ipython3",
   "version": "3.9.16"
  }
 },
 "nbformat": 4,
 "nbformat_minor": 5
}
